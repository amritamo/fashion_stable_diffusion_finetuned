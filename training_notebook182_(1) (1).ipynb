{
  "cells": [
    {
      "cell_type": "code",
      "execution_count": null,
      "metadata": {
        "id": "0nYtFDoUN53s"
      },
      "outputs": [],
      "source": [
        "from google.colab import drive\n",
        "drive.mount('/content/drive', force_remount=True)"
      ]
    },
    {
      "cell_type": "code",
      "execution_count": 2,
      "metadata": {
        "id": "akbhg3JPN9__"
      },
      "outputs": [],
      "source": [
        "import pandas as pd\n",
        "import os\n",
        "path = r\"/content/drive/MyDrive/resize_imgs\"\n",
        "csv_path = r\"/content/dataset (1).csv\""
      ]
    },
    {
      "cell_type": "code",
      "execution_count": 3,
      "metadata": {
        "id": "py1JBfBcOM_c"
      },
      "outputs": [],
      "source": [
        "!pip install keras-cv==0.6.0 -q\n",
        "!pip install -U tensorflow -q\n",
        "!pip install keras-core -q"
      ]
    },
    {
      "cell_type": "code",
      "execution_count": null,
      "metadata": {
        "id": "WN4zsI4gOd9V"
      },
      "outputs": [],
      "source": [
        "from textwrap import wrap\n",
        "import os\n",
        "\n",
        "import keras_cv\n",
        "import matplotlib.pyplot as plt\n",
        "import numpy as np\n",
        "import pandas as pd\n",
        "import tensorflow as tf\n",
        "import tensorflow.experimental.numpy as tnp\n",
        "from keras_cv.models.stable_diffusion.clip_tokenizer import SimpleTokenizer\n",
        "from keras_cv.models.stable_diffusion.diffusion_model import DiffusionModel\n",
        "from keras_cv.models.stable_diffusion.image_encoder import ImageEncoder\n",
        "from keras_cv.models.stable_diffusion.noise_scheduler import NoiseScheduler\n",
        "from keras_cv.models.stable_diffusion.text_encoder import TextEncoder\n",
        "from tensorflow import keras"
      ]
    },
    {
      "cell_type": "code",
      "execution_count": null,
      "metadata": {
        "id": "CuIR_hZuzvnE"
      },
      "outputs": [],
      "source": [
        "df = pd.read_csv(csv_path)\n",
        "df = df.sample(100)\n",
        "print(df.head)"
      ]
    },
    {
      "cell_type": "code",
      "execution_count": null,
      "metadata": {
        "id": "9Y2qm-19OhOh"
      },
      "outputs": [],
      "source": [
        "PADDING_TOKEN = 100\n",
        "MAX_PROMPT_LENGTH = 77\n",
        "\n",
        "# Load the tokenizer.\n",
        "tokenizer = SimpleTokenizer()\n",
        "\n",
        "#  Method to tokenize and pad the tokens.\n",
        "def process_text(caption):\n",
        "    tokens = tokenizer.encode(caption)\n",
        "    tokens = tokens + [PADDING_TOKEN] * (MAX_PROMPT_LENGTH - len(tokens))\n",
        "    return np.array(tokens)\n",
        "\n",
        "\n",
        "# Collate the tokenized captions into an array.\n",
        "tokenized_texts = np.empty((len(df), MAX_PROMPT_LENGTH))\n",
        "\n",
        "all_captions = list(df[\"captions\"].values)\n",
        "for i, caption in enumerate(all_captions):\n",
        "    tokenized_texts[i] = process_text(caption)"
      ]
    },
    {
      "cell_type": "code",
      "execution_count": null,
      "metadata": {
        "id": "8do1G81C24tN"
      },
      "outputs": [],
      "source": [
        "from PIL import Image\n",
        "import numpy as np\n",
        "img = Image.open(r\"/content/drive/MyDrive/resize_imgs/1163.jpg\")\n",
        "\n",
        "img_array = np.array(img)\n",
        "print(img_array.shape)"
      ]
    },
    {
      "cell_type": "code",
      "execution_count": null,
      "metadata": {
        "id": "kQKq7BJYPNFR"
      },
      "outputs": [],
      "source": [
        "RESOLUTION = 256\n",
        "AUTO = tf.data.AUTOTUNE\n",
        "POS_IDS = tf.convert_to_tensor([list(range(MAX_PROMPT_LENGTH))], dtype=tf.int32)\n",
        "\n",
        "augmenter = keras.Sequential(\n",
        "    layers=[\n",
        "        keras_cv.layers.CenterCrop(RESOLUTION, RESOLUTION),\n",
        "        keras_cv.layers.RandomFlip(),\n",
        "        tf.keras.layers.Rescaling(scale=1.0 / 127.5, offset=-1),\n",
        "    ]\n",
        ")\n",
        "text_encoder = TextEncoder(MAX_PROMPT_LENGTH)\n",
        "\n",
        "\n",
        "def process_image(image_path, tokenized_text):\n",
        "    image = tf.io.read_file(image_path)\n",
        "    image = tf.io.decode_png(image, 3)\n",
        "    image = tf.image.resize(image, (RESOLUTION, RESOLUTION))\n",
        "    return image, tokenized_text\n",
        "\n",
        "\n",
        "def apply_augmentation(image_batch, token_batch):\n",
        "    return augmenter(image_batch), token_batch\n",
        "\n",
        "\n",
        "def run_text_encoder(image_batch, token_batch):\n",
        "    return (\n",
        "        image_batch,\n",
        "        token_batch,\n",
        "        text_encoder([token_batch, POS_IDS], training=False),\n",
        "    )\n",
        "\n",
        "\n",
        "def prepare_dict(image_batch, token_batch, encoded_text_batch):\n",
        "    return {\n",
        "        \"images\": image_batch,\n",
        "        \"tokens\": token_batch,\n",
        "        \"encoded_text\": encoded_text_batch,\n",
        "    }\n",
        "\n",
        "def myfunc(id):\n",
        "    return \"/content/drive/MyDrive/resize_imgs/\" + id\n",
        "\n",
        "def prepare_dataset(image_paths, tokenized_texts, batch_size=1):\n",
        "    image_paths = list(map(myfunc, image_paths))\n",
        "    print(image_paths[:5])\n",
        "    dataset = tf.data.Dataset.from_tensor_slices((image_paths, tokenized_texts))\n",
        "    dataset = dataset.shuffle(batch_size * 10)\n",
        "    dataset = dataset.map(process_image, num_parallel_calls=AUTO).batch(batch_size)\n",
        "    dataset = dataset.map(apply_augmentation, num_parallel_calls=AUTO)\n",
        "    dataset = dataset.map(run_text_encoder, num_parallel_calls=AUTO)\n",
        "    dataset = dataset.map(prepare_dict, num_parallel_calls=AUTO)\n",
        "    return dataset.prefetch(AUTO)"
      ]
    },
    {
      "cell_type": "code",
      "source": [
        "# Prepare the dataset.\n",
        "training_dataset = prepare_dataset(\n",
        "    np.array(df[\"ids\"]), tokenized_texts, batch_size=4\n",
        ")\n",
        "exit()\n",
        "# Take a sample batch and investigate.\n",
        "sample_batch = next(iter(training_dataset))\n",
        "\n",
        "for k in sample_batch:\n",
        "    print(k, sample_batch[k].shape)"
      ],
      "metadata": {
        "id": "82S3gU7kcNgp"
      },
      "execution_count": null,
      "outputs": []
    },
    {
      "cell_type": "code",
      "source": [
        "plt.figure(figsize=(20, 10))\n",
        "\n",
        "for i in range(3):\n",
        "    ax = plt.subplot(1, 4, i + 1)\n",
        "    plt.imshow((sample_batch[\"images\"][i] + 1) / 2)\n",
        "\n",
        "    text = tokenizer.decode(sample_batch[\"tokens\"][i].numpy().squeeze())\n",
        "    text = text.replace(\"<|startoftext|>\", \"\")\n",
        "    text = text.replace(\"<|endoftext|>\", \"\")\n",
        "    text = \"\\n\".join(wrap(text, 12))\n",
        "    plt.title(text, fontsize=15)\n",
        "\n",
        "    plt.axis(\"off\")"
      ],
      "metadata": {
        "id": "eVfRxUpJkvsp"
      },
      "execution_count": null,
      "outputs": []
    },
    {
      "cell_type": "code",
      "source": [
        "class Trainer(tf.keras.Model):\n",
        "    # Reference:\n",
        "    # https://github.com/huggingface/diffusers/blob/main/examples/text_to_image/train_text_to_image.py\n",
        "\n",
        "    def __init__(\n",
        "        self,\n",
        "        diffusion_model,\n",
        "        vae,\n",
        "        noise_scheduler,\n",
        "        use_mixed_precision=False,\n",
        "        max_grad_norm=1.0,\n",
        "        **kwargs\n",
        "    ):\n",
        "        super().__init__(**kwargs)\n",
        "\n",
        "        self.diffusion_model = diffusion_model\n",
        "        self.vae = vae\n",
        "        self.noise_scheduler = noise_scheduler\n",
        "        self.max_grad_norm = max_grad_norm\n",
        "\n",
        "        self.use_mixed_precision = use_mixed_precision\n",
        "        self.vae.trainable = False\n",
        "\n",
        "    def train_step(self, inputs):\n",
        "        images = inputs[\"images\"]\n",
        "        encoded_text = inputs[\"encoded_text\"]\n",
        "        batch_size = tf.shape(images)[0]\n",
        "\n",
        "        with tf.GradientTape() as tape:\n",
        "            # Project image into the latent space and sample from it.\n",
        "            latents = self.sample_from_encoder_outputs(self.vae(images, training=False))\n",
        "            # Know more about the magic number here:\n",
        "            # https://keras.io/examples/generative/fine_tune_via_textual_inversion/\n",
        "            latents = latents * 0.18215\n",
        "\n",
        "            # Sample noise that we'll add to the latents.\n",
        "            noise = tf.random.normal(tf.shape(latents))\n",
        "\n",
        "            # Sample a random timestep for each image.\n",
        "            timesteps = tnp.random.randint(\n",
        "                0, self.noise_scheduler.train_timesteps, (batch_size,)\n",
        "            )\n",
        "\n",
        "            # Add noise to the latents according to the noise magnitude at each timestep\n",
        "            # (this is the forward diffusion process).\n",
        "            noisy_latents = self.noise_scheduler.add_noise(\n",
        "                tf.cast(latents, noise.dtype), noise, timesteps\n",
        "            )\n",
        "\n",
        "            # Get the target for loss depending on the prediction type\n",
        "            # just the sampled noise for now.\n",
        "            target = noise  # noise_schedule.predict_epsilon == True\n",
        "\n",
        "            # Predict the noise residual and compute loss.\n",
        "            timestep_embedding = tf.map_fn(\n",
        "                lambda t: self.get_timestep_embedding(t), timesteps, dtype=tf.float32\n",
        "            )\n",
        "            timestep_embedding = tf.squeeze(timestep_embedding, 1)\n",
        "            model_pred = self.diffusion_model(\n",
        "                [noisy_latents, timestep_embedding, encoded_text], training=True\n",
        "            )\n",
        "            loss = self.compiled_loss(target, model_pred)\n",
        "            if self.use_mixed_precision:\n",
        "                loss = self.optimizer.get_scaled_loss(loss)\n",
        "\n",
        "        # Update parameters of the diffusion model.\n",
        "        trainable_vars = self.diffusion_model.trainable_variables\n",
        "        gradients = tape.gradient(loss, trainable_vars)\n",
        "        if self.use_mixed_precision:\n",
        "            gradients = self.optimizer.get_unscaled_gradients(gradients)\n",
        "        gradients = [tf.clip_by_norm(g, self.max_grad_norm) for g in gradients]\n",
        "        self.optimizer.apply_gradients(zip(gradients, trainable_vars))\n",
        "\n",
        "        return {m.name: m.result() for m in self.metrics}\n",
        "\n",
        "    def get_timestep_embedding(self, timestep, dim=320, max_period=10000):\n",
        "        half = dim // 2\n",
        "        log_max_period = tf.math.log(tf.cast(max_period, tf.float32))\n",
        "        freqs = tf.math.exp(\n",
        "            -log_max_period * tf.range(0, half, dtype=tf.float32) / half\n",
        "        )\n",
        "        args = tf.convert_to_tensor([timestep], dtype=tf.float32) * freqs\n",
        "        embedding = tf.concat([tf.math.cos(args), tf.math.sin(args)], 0)\n",
        "        embedding = tf.reshape(embedding, [1, -1])\n",
        "        return embedding\n",
        "\n",
        "    def sample_from_encoder_outputs(self, outputs):\n",
        "        mean, logvar = tf.split(outputs, 2, axis=-1)\n",
        "        logvar = tf.clip_by_value(logvar, -30.0, 20.0)\n",
        "        std = tf.exp(0.5 * logvar)\n",
        "        sample = tf.random.normal(tf.shape(mean), dtype=mean.dtype)\n",
        "        return mean + std * sample\n",
        "\n",
        "    def save_weights(self, filepath, overwrite=True, save_format=None, options=None):\n",
        "        # Overriding this method will allow us to use the `ModelCheckpoint`\n",
        "        # callback directly with this trainer class. In this case, it will\n",
        "        # only checkpoint the `diffusion_model` since that's what we're training\n",
        "        # during fine-tuning.\n",
        "        self.diffusion_model.save_weights(\n",
        "            filepath=filepath,\n",
        "            overwrite=overwrite,\n",
        "            save_format=save_format,\n",
        "            options=options,\n",
        "        )"
      ],
      "metadata": {
        "id": "ZxnUzqCYlC2K"
      },
      "execution_count": null,
      "outputs": []
    },
    {
      "cell_type": "code",
      "source": [
        "# Enable mixed-precision training if the underlying GPU has tensor cores.\n",
        "USE_MP = True\n",
        "if USE_MP:\n",
        "    keras.mixed_precision.set_global_policy(\"mixed_float16\")\n",
        "\n",
        "image_encoder = ImageEncoder()\n",
        "diffusion_ft_trainer = Trainer(\n",
        "    diffusion_model=DiffusionModel(RESOLUTION, RESOLUTION, MAX_PROMPT_LENGTH),\n",
        "    # Remove the top layer from the encoder, which cuts off the variance and only\n",
        "    # returns the mean.\n",
        "    vae=tf.keras.Model(\n",
        "        image_encoder.input,\n",
        "        image_encoder.layers[-2].output,\n",
        "    ),\n",
        "    noise_scheduler=NoiseScheduler(),\n",
        "    use_mixed_precision=USE_MP,\n",
        ")\n",
        "\n",
        "# Lists to store the training loss values for each epoch\n",
        "training_losses = []\n",
        "\n",
        "# Callback to track the training loss\n",
        "class LossTrackerCallback(tf.keras.callbacks.Callback):\n",
        "    def on_epoch_end(self, epoch, logs=None):\n",
        "        training_losses.append(logs[\"loss\"])\n",
        "\n",
        "# These hyperparameters come from this tutorial by Hugging Face:\n",
        "# https://huggingface.co/docs/diffusers/training/text2image\n",
        "lr = 1e-5\n",
        "beta_1, beta_2 = 0.9, 0.999\n",
        "weight_decay = (1e-2,)\n",
        "epsilon = 1e-08\n",
        "\n",
        "optimizer = tf.keras.optimizers.experimental.AdamW(\n",
        "    learning_rate=lr,\n",
        "    weight_decay=weight_decay,\n",
        "    beta_1=beta_1,\n",
        "    beta_2=beta_2,\n",
        "    epsilon=epsilon,\n",
        ")\n",
        "diffusion_ft_trainer.compile(optimizer=optimizer, loss=\"mse\")"
      ],
      "metadata": {
        "id": "KEbnnAv-lWuZ"
      },
      "execution_count": null,
      "outputs": []
    },
    {
      "cell_type": "code",
      "source": [
        "epochs = 10\n",
        "\n",
        "ckpt_path = \"finetuned_stable_diffusion.h5\"\n",
        "ckpt_callback = tf.keras.callbacks.ModelCheckpoint(\n",
        "    ckpt_path,\n",
        "    save_weights_only=True,\n",
        "    monitor=\"loss\",\n",
        "    mode=\"min\",\n",
        ")\n",
        "loss_tracker_callback = LossTrackerCallback()\n",
        "diffusion_ft_trainer.fit(training_dataset, epochs=epochs, callbacks=[ckpt_callback, loss_tracker_callback])\n",
        "\n",
        "# Plotting the MSE loss over epochs\n",
        "plt.plot(range(1, epochs + 1), training_losses, label=\"Training Loss\")\n",
        "plt.xlabel(\"Epochs\")\n",
        "plt.ylabel(\"Mean Squared Error (MSE) Loss\")\n",
        "plt.title(\"Training Loss Over Epochs\")\n",
        "plt.legend()\n",
        "plt.show()"
      ],
      "metadata": {
        "id": "8tdxNt0SllkY"
      },
      "execution_count": null,
      "outputs": []
    }
  ],
  "metadata": {
    "colab": {
      "provenance": []
    },
    "kernelspec": {
      "display_name": "Python 3",
      "name": "python3"
    },
    "language_info": {
      "name": "python"
    }
  },
  "nbformat": 4,
  "nbformat_minor": 0
}